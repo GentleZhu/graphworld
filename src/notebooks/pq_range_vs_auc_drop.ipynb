{
 "cells": [
  {
   "cell_type": "code",
   "execution_count": 129,
   "id": "e301b914",
   "metadata": {},
   "outputs": [],
   "source": [
    "# Imports\n",
    "import json\n",
    "import os\n",
    "\n",
    "import numpy as np\n",
    "import pandas as pd\n"
   ]
  },
  {
   "cell_type": "code",
   "execution_count": 369,
   "id": "0ffd743f",
   "metadata": {},
   "outputs": [],
   "source": [
    "# Constants\n",
    "NSHARDS = 10\n",
    "NUM_INTERVAL = 30\n",
    "TOP_K = 5\n",
    "\n",
    "RESULTS_DIR = '/tmp/mwe'\n",
    "#RESULTS_DIR = '/tmp/mwe_ktrain_1_60'\n",
    "#RESULTS_DIR = '/tmp/mwe_feat_dis_0.1_0.5'\n",
    "#RESULTS_DIR = '/tmp/mwe_feat_dis_0_20'\n",
    "LOCALDIR = '/tmp'\n",
    "\n",
    "MODELS = ['GCN', 'GraphSAGE']\n",
    "METRIC = 'test_rocauc_ovr'\n",
    "#PARAM = 'feature_center_distance'\n",
    "PARAM = 'p_to_q_ratio'"
   ]
  },
  {
   "cell_type": "code",
   "execution_count": 379,
   "id": "01a7e41c",
   "metadata": {},
   "outputs": [
    {
     "name": "stdout",
     "output_type": "stream",
     "text": [
      "results.ndjson-00000-of-00010\n",
      "results.ndjson-00001-of-00010\n",
      "results.ndjson-00002-of-00010\n",
      "results.ndjson-00003-of-00010\n",
      "results.ndjson-00004-of-00010\n",
      "results.ndjson-00005-of-00010\n",
      "results.ndjson-00006-of-00010\n",
      "results.ndjson-00007-of-00010\n",
      "results.ndjson-00008-of-00010\n",
      "results.ndjson-00009-of-00010\n"
     ]
    },
    {
     "data": {
      "text/plain": [
       "'\\nprint(results_df.columns)\\n\\nfeat_list = [\"GCN__train_lr\",\"GCN__model_hidden_channels\",\"GCN__model_num_layers\",\"GCN__model_dropout\"]\\nfor col in feat_list:\\n    values = results_df[col].unique()\\n    for v in values:\\n        rows = results_df.loc[results_df[col] == v]\\n        auc_scores = rows[\\'GCN__\\' + METRIC]\\n        avg = np.mean(auc_scores)\\n        var = np.var(auc_scores)\\n        print(\\'feat: %s, val: %s, num: %s, avg: %.4f, var: %.4f\\' % (col, v, len(auc_scores), avg, var))\\n    print()\\n    print()\\n    \\n'"
      ]
     },
     "execution_count": 379,
     "metadata": {},
     "output_type": "execute_result"
    }
   ],
   "source": [
    "dfs = []\n",
    "for shard_idx in range(NSHARDS):\n",
    "    filename = 'results.ndjson-%s-of-%s' % (str(shard_idx).zfill(5), str(NSHARDS).zfill(5))\n",
    "    print(filename)\n",
    "\n",
    "    with open(f'{RESULTS_DIR}/{filename}', 'r') as f:\n",
    "        lines = f.readlines()\n",
    "        records = map(json.loads, lines)\n",
    "        dfs.append(pd.DataFrame.from_records(records))\n",
    "\n",
    "# Construct df and remove nans\n",
    "results_df = pd.concat(dfs)\n",
    "results_df.drop(['marginal_param', 'fixed_params'], axis=1, inplace=True)\n",
    "results_df.dropna(axis=0, inplace=True)\n",
    "del dfs\n",
    "\n",
    "\n",
    "'''\n",
    "print(results_df.columns)\n",
    "\n",
    "feat_list = [\"GCN__train_lr\",\"GCN__model_hidden_channels\",\"GCN__model_num_layers\",\"GCN__model_dropout\"]\n",
    "for col in feat_list:\n",
    "    values = results_df[col].unique()\n",
    "    for v in values:\n",
    "        rows = results_df.loc[results_df[col] == v]\n",
    "        auc_scores = rows['GCN__' + METRIC]\n",
    "        avg = np.mean(auc_scores)\n",
    "        var = np.var(auc_scores)\n",
    "        print('feat: %s, val: %s, num: %s, avg: %.4f, var: %.4f' % (col, v, len(auc_scores), avg, var))\n",
    "    print()\n",
    "    print()\n",
    "    \n",
    "'''"
   ]
  },
  {
   "cell_type": "code",
   "execution_count": 383,
   "id": "e0c62632",
   "metadata": {},
   "outputs": [
    {
     "name": "stdout",
     "output_type": "stream",
     "text": [
      "1000\n",
      "4000\n"
     ]
    }
   ],
   "source": [
    "columns = results_df.columns\n",
    "\n",
    "processd_dict = {col : [] for col in columns}\n",
    "\n",
    "for row in results_df.itertuples():\n",
    "    param = getattr(row, PARAM)\n",
    "    len_param = len(param)\n",
    "    for col in columns:\n",
    "        val = getattr(row, col)\n",
    "        if isinstance(val, list):\n",
    "            processd_dict[col] += val[1:]\n",
    "        else:\n",
    "            processd_dict[col] += [val] * (len_param - 1)\n",
    "\n",
    "processd_df = pd.DataFrame.from_dict(processd_dict)\n",
    "    \n",
    "print(len(results_df))\n",
    "print(len(processd_df))"
   ]
  },
  {
   "cell_type": "code",
   "execution_count": 386,
   "id": "61097520",
   "metadata": {},
   "outputs": [],
   "source": [
    "def process_plot_data(df):\n",
    "\n",
    "    INTERVAL = (max(df[PARAM]) - min(df[PARAM])) / NUM_INTERVAL\n",
    "\n",
    "    plot_data = {}\n",
    "    x_aixs = PARAM\n",
    "    y_aixs = METRIC + '_drop'\n",
    "    EPS = 1e-9\n",
    "\n",
    "    for model in MODELS:\n",
    "        all_scores = list(df[model + '__' + METRIC])\n",
    "        group_ids = ((df[PARAM]-min(df[PARAM]) - EPS) / INTERVAL).astype(int)\n",
    "        group_ids = list(group_ids)\n",
    "\n",
    "        scores_per_group = {}\n",
    "        for (i, g_id) in enumerate(group_ids):\n",
    "            scores_per_group.setdefault(g_id, []).append(all_scores[i])\n",
    "\n",
    "        sorted_scores_per_group = {}\n",
    "        for i in sorted (scores_per_group): \n",
    "            sorted_scores_per_group[i] = scores_per_group[i]\n",
    "\n",
    "        group_perf_drop = {}\n",
    "        group_avg_high_perf = {}\n",
    "        group_avg_low_perf = {}\n",
    "        for i in sorted_scores_per_group:\n",
    "            scores = sorted_scores_per_group[i]\n",
    "            #print(len(scores))\n",
    "            sorted_scores = sorted(scores)\n",
    "            high_scores = sorted_scores[-TOP_K:]\n",
    "            low_scores = sorted_scores[:TOP_K]\n",
    "            group_avg_high_perf[i] = np.mean(high_scores) #high_scores #np.mean(high_scores)\n",
    "            group_avg_low_perf[i] = np.mean(low_scores) #low_scores #np.mean(low_scores)\n",
    "            group_perf_drop[i] = group_avg_high_perf[i] - group_avg_low_perf[i]   \n",
    "\n",
    "        x_scale = group_perf_drop.keys()\n",
    "        #print(x_scale)\n",
    "        x_index = [(i+1)*INTERVAL for i in x_scale]\n",
    "        num_x = len(x_scale)\n",
    "        plot_data.setdefault(x_aixs, [])\n",
    "        plot_data[x_aixs] += x_index\n",
    "        plot_data.setdefault(y_aixs , [])\n",
    "        plot_data[y_aixs] += group_perf_drop.values()\n",
    "        plot_data.setdefault('model', [])\n",
    "        plot_data['model'] += [model] * num_x\n",
    "    return plot_data\n",
    "\n",
    "\n",
    "\n"
   ]
  },
  {
   "cell_type": "code",
   "execution_count": 387,
   "id": "ec840699",
   "metadata": {},
   "outputs": [
    {
     "data": {
      "image/png": "[encoded data removed]",
      "text/plain": [
       "<Figure size 432x288 with 1 Axes>"
      ]
     },
     "metadata": {
      "needs_background": "light"
     },
     "output_type": "display_data"
    }
   ],
   "source": [
    "import seaborn as sns\n",
    "\n",
    "plot_data = process_plot_data(processd_df)\n",
    "plot_df = pd.DataFrame.from_dict(plot_data)\n",
    "sns.lineplot(data=plot_df, x=x_aixs, y=y_aixs, hue='model')\n",
    "plt.title('%s vs %s' % (y_aixs, x_aixs))\n",
    "plt.show()\n",
    "\n",
    "\n",
    "\n",
    "\n",
    "\n",
    "\n"
   ]
  },
  {
   "cell_type": "code",
   "execution_count": null,
   "id": "cfbe8f47",
   "metadata": {},
   "outputs": [],
   "source": []
  },
  {
   "cell_type": "code",
   "execution_count": null,
   "id": "2fe31509",
   "metadata": {},
   "outputs": [],
   "source": []
  },
  {
   "cell_type": "code",
   "execution_count": null,
   "id": "0cabd01f",
   "metadata": {},
   "outputs": [],
   "source": []
  },
  {
   "cell_type": "code",
   "execution_count": null,
   "id": "852d8482",
   "metadata": {},
   "outputs": [],
   "source": []
  },
  {
   "cell_type": "code",
   "execution_count": null,
   "id": "f6112251",
   "metadata": {},
   "outputs": [],
   "source": []
  },
  {
   "cell_type": "code",
   "execution_count": null,
   "id": "ac0618da",
   "metadata": {},
   "outputs": [],
   "source": []
  }
 ],
 "metadata": {
  "kernelspec": {
   "display_name": "Python 3 (ipykernel)",
   "language": "python",
   "name": "python3"
  },
  "language_info": {
   "codemirror_mode": {
    "name": "ipython",
    "version": 3
   },
   "file_extension": ".py",
   "mimetype": "text/x-python",
   "name": "python",
   "nbconvert_exporter": "python",
   "pygments_lexer": "ipython3",
   "version": "3.9.6"
  }
 },
 "nbformat": 4,
 "nbformat_minor": 5
}
